{
 "cells": [
  {
   "cell_type": "code",
   "execution_count": 4,
   "metadata": {},
   "outputs": [],
   "source": [
    "import cv2"
   ]
  },
  {
   "cell_type": "code",
   "execution_count": 5,
   "metadata": {},
   "outputs": [],
   "source": [
    "img = cv2.imread(\"Cute-baby.jpg\")"
   ]
  },
  {
   "cell_type": "code",
   "execution_count": 6,
   "metadata": {},
   "outputs": [],
   "source": [
    "cv2.imshow(\"Output\",img)"
   ]
  },
  {
   "cell_type": "code",
   "execution_count": 7,
   "metadata": {},
   "outputs": [
    {
     "output_type": "execute_result",
     "data": {
      "text/plain": "-1"
     },
     "metadata": {},
     "execution_count": 7
    }
   ],
   "source": [
    "cv2.waitKey(0)"
   ]
  },
  {
   "cell_type": "code",
   "execution_count": 8,
   "metadata": {},
   "outputs": [
    {
     "output_type": "execute_result",
     "data": {
      "text/plain": "-1"
     },
     "metadata": {},
     "execution_count": 8
    }
   ],
   "source": [
    "imgGray = cv2.cvtColor(img,cv2.COLOR_BGR2GRAY)\n",
    "cv2.imshow(\"Gray image\",imgGray)\n",
    "cv2.waitKey(0)"
   ]
  },
  {
   "cell_type": "code",
   "execution_count": 9,
   "metadata": {
    "tags": []
   },
   "outputs": [
    {
     "output_type": "stream",
     "name": "stdout",
     "text": "530\n"
    }
   ],
   "source": [
    "cap = cv2.VideoCapture(\"VID_20190611_100612.mp4\")\n",
    "number_of_frames_count = int(cap.get(cv2.CAP_PROP_FRAME_COUNT))\n",
    "print(number_of_frames_count)"
   ]
  },
  {
   "cell_type": "code",
   "execution_count": 36,
   "metadata": {},
   "outputs": [
    {
     "output_type": "execute_result",
     "data": {
      "text/plain": "52.749906830615295"
     },
     "metadata": {},
     "execution_count": 36
    }
   ],
   "source": [
    "frames_per_second = cap.get(cv2.CAP_PROP_FPS)  \n",
    "frames_per_second"
   ]
  },
  {
   "cell_type": "code",
   "execution_count": 17,
   "metadata": {},
   "outputs": [],
   "source": [
    "duration_of_video = float(number_of_frames_count) / float(frames_per_second)"
   ]
  },
  {
   "cell_type": "code",
   "execution_count": 18,
   "metadata": {},
   "outputs": [
    {
     "output_type": "execute_result",
     "data": {
      "text/plain": "10.047411111111112"
     },
     "metadata": {},
     "execution_count": 18
    }
   ],
   "source": [
    "duration_of_video"
   ]
  },
  {
   "cell_type": "code",
   "execution_count": 23,
   "metadata": {},
   "outputs": [
    {
     "output_type": "execute_result",
     "data": {
      "text/plain": "0.018957379454926628"
     },
     "metadata": {},
     "execution_count": 23
    }
   ],
   "source": [
    "time_taken_by_each_frame = duration_of_video/number_of_frames_count\n",
    "time_taken_by_each_frame"
   ]
  },
  {
   "cell_type": "code",
   "execution_count": 39,
   "metadata": {
    "tags": []
   },
   "outputs": [
    {
     "output_type": "stream",
     "name": "stdout",
     "text": "52.749906830615295\n"
    }
   ],
   "source": [
    "cap = cv2.VideoCapture(\"VID_20190611_100612.mp4\")\n",
    "fourcc = cv2.VideoWriter_fourcc(*'XVID')\n",
    "out = cv2.VideoWriter('output.avi',fourcc, cap.get(cv2.CAP_PROP_FPS) , (540, 380))\n",
    "\n",
    "print (cap.get(cv2.CAP_PROP_FPS))\n",
    "counter = 0\n",
    "while (cap.isOpened()): \n",
    "    font = cv2.FONT_HERSHEY_SIMPLEX\n",
    "    ret, frame = cap.read()\n",
    "    counter += 1\n",
    "    #print(\"Counter : \",counter)\n",
    "    #print(ret)\n",
    "    if ret:\n",
    "        #Draw rectangle\n",
    "        frame = cv2.rectangle(frame, (5,5), (800,800) , (255, 0, 0) , 2) \n",
    "        \n",
    "        #Putting text in the rectanngle\n",
    "        cv2.putText(frame,'Trying out things',(10,100), font, 1,(255,255,255),2)\n",
    "        \n",
    "        #Resizing the frame\n",
    "        frame = cv2.resize(frame, (540, 380), fx = 0, fy = 0, \n",
    "                            interpolation = cv2.INTER_CUBIC) \n",
    "        out.write(frame)\n",
    "        # Display the resulting frame \n",
    "        cv2.imshow('Frame', frame)  \n",
    "    else:\n",
    "        break\n",
    "\n",
    "    # define q as the exit button \n",
    "    if cv2.waitKey(1) & 0xFF == ord('q'): \n",
    "        break\n",
    "  \n",
    "# release the video capture object \n",
    "cap.release() \n",
    "out.release()\n",
    "# Closes all the windows currently opened. \n",
    "cv2.destroyAllWindows() "
   ]
  },
  {
   "cell_type": "code",
   "execution_count": null,
   "metadata": {},
   "outputs": [],
   "source": []
  },
  {
   "cell_type": "code",
   "execution_count": null,
   "metadata": {},
   "outputs": [],
   "source": []
  }
 ],
 "metadata": {
  "kernelspec": {
   "display_name": "Python 3",
   "language": "python",
   "name": "python3"
  },
  "language_info": {
   "codemirror_mode": {
    "name": "ipython",
    "version": 3
   },
   "file_extension": ".py",
   "mimetype": "text/x-python",
   "name": "python",
   "nbconvert_exporter": "python",
   "pygments_lexer": "ipython3",
   "version": "3.7.6-final"
  }
 },
 "nbformat": 4,
 "nbformat_minor": 4
}