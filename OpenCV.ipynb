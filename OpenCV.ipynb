{
 "cells": [
  {
   "cell_type": "code",
   "execution_count": 1,
   "metadata": {},
   "outputs": [],
   "source": [
    "import cv2"
   ]
  },
  {
   "cell_type": "code",
   "execution_count": 3,
   "metadata": {},
   "outputs": [],
   "source": [
    "img = cv2.imread(\"Cute-baby.jpg\")\n"
   ]
  },
  {
   "cell_type": "code",
   "execution_count": 4,
   "metadata": {},
   "outputs": [],
   "source": [
    "cv2.imshow(\"Output\",img)"
   ]
  },
  {
   "cell_type": "code",
   "execution_count": 7,
   "metadata": {},
   "outputs": [
    {
     "output_type": "execute_result",
     "data": {
      "text/plain": "-1"
     },
     "metadata": {},
     "execution_count": 7
    }
   ],
   "source": [
    "cv2.waitKey(0)"
   ]
  },
  {
   "cell_type": "code",
   "execution_count": 8,
   "metadata": {},
   "outputs": [
    {
     "output_type": "execute_result",
     "data": {
      "text/plain": "-1"
     },
     "metadata": {},
     "execution_count": 8
    }
   ],
   "source": [
    "imgGray = cv2.cvtColor(img,cv2.COLOR_BGR2GRAY)\n",
    "cv2.imshow(\"Gray image\",imgGray)\n",
    "cv2.waitKey(0)"
   ]
  },
  {
   "cell_type": "code",
   "execution_count": 22,
   "metadata": {
    "tags": []
   },
   "outputs": [
    {
     "output_type": "stream",
     "name": "stdout",
     "text": "530\n"
    }
   ],
   "source": [
    "cap = cv2.VideoCapture(\"VID_20190611_100612.mp4\")\n",
    "number_of_frames_count = int(cap.get(cv2.CAP_PROP_FRAME_COUNT))\n",
    "print(number_of_frames_count)"
   ]
  },
  {
   "cell_type": "code",
   "execution_count": 23,
   "metadata": {},
   "outputs": [
    {
     "output_type": "execute_result",
     "data": {
      "text/plain": "52.749906830615295"
     },
     "metadata": {},
     "execution_count": 23
    }
   ],
   "source": [
    "frames_per_second = cap.get(cv2.CAP_PROP_FPS)  \n",
    "frames_per_second"
   ]
  },
  {
   "cell_type": "code",
   "execution_count": 24,
   "metadata": {},
   "outputs": [],
   "source": [
    "duration_of_video = float(number_of_frames_count) / float(frames_per_second)"
   ]
  },
  {
   "cell_type": "code",
   "execution_count": 25,
   "metadata": {},
   "outputs": [
    {
     "output_type": "execute_result",
     "data": {
      "text/plain": "10.047411111111112"
     },
     "metadata": {},
     "execution_count": 25
    }
   ],
   "source": [
    "duration_of_video"
   ]
  },
  {
   "cell_type": "code",
   "execution_count": 16,
   "metadata": {},
   "outputs": [
    {
     "output_type": "execute_result",
     "data": {
      "text/plain": "0.03363145743145743"
     },
     "metadata": {},
     "execution_count": 16
    }
   ],
   "source": [
    "time_taken_by_each_frame = duration_of_video/number_of_frames_count\n",
    "time_taken_by_each_frame"
   ]
  },
  {
   "cell_type": "code",
   "execution_count": 27,
   "metadata": {
    "tags": []
   },
   "outputs": [
    {
     "output_type": "stream",
     "name": "stdout",
     "text": "52.749906830615295\nCounter :  1\nTrue\nCounter :  2\nTrue\nCounter :  3\nTrue\nCounter :  4\nTrue\nCounter :  5\nTrue\nCounter :  6\nTrue\nCounter :  7\nTrue\nCounter :  8\nTrue\nCounter :  9\nTrue\nCounter :  10\nTrue\nCounter :  11\nTrue\nCounter :  12\nTrue\nCounter :  13\nTrue\nCounter :  14\nTrue\nCounter :  15\nTrue\nCounter :  16\nTrue\nCounter :  17\nTrue\nCounter :  18\nTrue\nCounter :  19\nTrue\nCounter :  20\nTrue\nCounter :  21\nTrue\nCounter :  22\nTrue\nCounter :  23\nTrue\nCounter :  24\nTrue\nCounter :  25\nTrue\nCounter :  26\nTrue\nCounter :  27\nTrue\nCounter :  28\nTrue\nCounter :  29\nTrue\nCounter :  30\nTrue\nCounter :  31\nTrue\nCounter :  32\nTrue\nCounter :  33\nTrue\nCounter :  34\nTrue\nCounter :  35\nTrue\nCounter :  36\nTrue\nCounter :  37\nTrue\nCounter :  38\nTrue\nCounter :  39\nTrue\nCounter :  40\nTrue\nCounter :  41\nTrue\nCounter :  42\nTrue\nCounter :  43\nTrue\nCounter :  44\nTrue\nCounter :  45\nTrue\nCounter :  46\nTrue\nCounter :  47\nTrue\nCounter :  48\nTrue\nCounter :  49\nTrue\nCounter :  50\nTrue\nCounter :  51\nTrue\nCounter :  52\nTrue\nCounter :  53\nTrue\nCounter :  54\nTrue\nCounter :  55\nTrue\nCounter :  56\nTrue\nCounter :  57\nTrue\nCounter :  58\nTrue\nCounter :  59\nTrue\nCounter :  60\nTrue\nCounter :  61\nTrue\nCounter :  62\nTrue\nCounter :  63\nTrue\nCounter :  64\nTrue\nCounter :  65\nTrue\nCounter :  66\nTrue\nCounter :  67\nTrue\nCounter :  68\nTrue\nCounter :  69\nTrue\nCounter :  70\nTrue\nCounter :  71\nTrue\nCounter :  72\nTrue\nCounter :  73\nTrue\nCounter :  74\nTrue\nCounter :  75\nTrue\nCounter :  76\nTrue\nCounter :  77\nTrue\nCounter :  78\nTrue\nCounter :  79\nTrue\nCounter :  80\nTrue\nCounter :  81\nTrue\nCounter :  82\nTrue\nCounter :  83\nTrue\nCounter :  84\nTrue\nCounter :  85\nTrue\nCounter :  86\nTrue\nCounter :  87\nTrue\nCounter :  88\nTrue\nCounter :  89\nTrue\nCounter :  90\nTrue\nCounter :  91\nTrue\nCounter :  92\nTrue\nCounter :  93\nTrue\nCounter :  94\nTrue\nCounter :  95\nTrue\nCounter :  96\nTrue\nCounter :  97\nTrue\nCounter :  98\nTrue\nCounter :  99\nTrue\nCounter :  100\nTrue\nCounter :  101\nTrue\nCounter :  102\nTrue\nCounter :  103\nTrue\nCounter :  104\nTrue\nCounter :  105\nTrue\nCounter :  106\nTrue\nCounter :  107\nTrue\nCounter :  108\nTrue\nCounter :  109\nTrue\nCounter :  110\nTrue\nCounter :  111\nTrue\nCounter :  112\nTrue\nCounter :  113\nTrue\nCounter :  114\nTrue\nCounter :  115\nTrue\nCounter :  116\nTrue\nCounter :  117\nTrue\nCounter :  118\nTrue\nCounter :  119\nTrue\nCounter :  120\nTrue\nCounter :  121\nTrue\nCounter :  122\nTrue\nCounter :  123\nTrue\nCounter :  124\nTrue\nCounter :  125\nTrue\nCounter :  126\nTrue\nCounter :  127\nTrue\nCounter :  128\nTrue\nCounter :  129\nTrue\nCounter :  130\nTrue\nCounter :  131\nTrue\nCounter :  132\nTrue\nCounter :  133\nTrue\nCounter :  134\nTrue\nCounter :  135\nTrue\nCounter :  136\nTrue\nCounter :  137\nTrue\nCounter :  138\nTrue\nCounter :  139\nTrue\nCounter :  140\nTrue\nCounter :  141\nTrue\nCounter :  142\nTrue\nCounter :  143\nTrue\nCounter :  144\nTrue\nCounter :  145\nTrue\nCounter :  146\nTrue\nCounter :  147\nTrue\nCounter :  148\nTrue\nCounter :  149\nTrue\nCounter :  150\nTrue\nCounter :  151\nTrue\nCounter :  152\nTrue\nCounter :  153\nTrue\nCounter :  154\nTrue\nCounter :  155\nTrue\nCounter :  156\nTrue\nCounter :  157\nTrue\nCounter :  158\nTrue\nCounter :  159\nTrue\nCounter :  160\nTrue\nCounter :  161\nTrue\nCounter :  162\nTrue\nCounter :  163\nTrue\nCounter :  164\nTrue\nCounter :  165\nTrue\nCounter :  166\nTrue\nCounter :  167\nTrue\nCounter :  168\nTrue\nCounter :  169\nTrue\nCounter :  170\nTrue\nCounter :  171\nTrue\nCounter :  172\nTrue\nCounter :  173\nTrue\nCounter :  174\nTrue\nCounter :  175\nTrue\nCounter :  176\nTrue\nCounter :  177\nTrue\nCounter :  178\nTrue\nCounter :  179\nTrue\nCounter :  180\nTrue\nCounter :  181\nTrue\nCounter :  182\nTrue\nCounter :  183\nTrue\nCounter :  184\nTrue\nCounter :  185\nTrue\nCounter :  186\nTrue\nCounter :  187\nTrue\nCounter :  188\nTrue\nCounter :  189\nTrue\nCounter :  190\nTrue\nCounter :  191\nTrue\nCounter :  192\nTrue\nCounter :  193\nTrue\nCounter :  194\nTrue\nCounter :  195\nTrue\nCounter :  196\nTrue\nCounter :  197\nTrue\nCounter :  198\nTrue\nCounter :  199\nTrue\nCounter :  200\nTrue\nCounter :  201\nTrue\nCounter :  202\nTrue\nCounter :  203\nTrue\nCounter :  204\nTrue\nCounter :  205\nTrue\nCounter :  206\nTrue\nCounter :  207\nTrue\nCounter :  208\nTrue\nCounter :  209\nTrue\nCounter :  210\nTrue\nCounter :  211\nTrue\nCounter :  212\nTrue\nCounter :  213\nTrue\nCounter :  214\nTrue\nCounter :  215\nTrue\nCounter :  216\nTrue\nCounter :  217\nTrue\nCounter :  218\nTrue\nCounter :  219\nTrue\nCounter :  220\nTrue\nCounter :  221\nTrue\nCounter :  222\nTrue\nCounter :  223\nTrue\nCounter :  224\nTrue\nCounter :  225\nTrue\nCounter :  226\nTrue\nCounter :  227\nTrue\nCounter :  228\nTrue\nCounter :  229\nTrue\nCounter :  230\nTrue\nCounter :  231\nTrue\nCounter :  232\nTrue\nCounter :  233\nTrue\nCounter :  234\nTrue\nCounter :  235\nTrue\nCounter :  236\nTrue\nCounter :  237\nTrue\nCounter :  238\nTrue\nCounter :  239\nTrue\nCounter :  240\nTrue\nCounter :  241\nTrue\nCounter :  242\nTrue\nCounter :  243\nTrue\nCounter :  244\nTrue\nCounter :  245\nTrue\nCounter :  246\nTrue\nCounter :  247\nTrue\nCounter :  248\nTrue\nCounter :  249\nTrue\nCounter :  250\nTrue\nCounter :  251\nTrue\nCounter :  252\nTrue\nCounter :  253\nTrue\nCounter :  254\nTrue\nCounter :  255\nTrue\nCounter :  256\nTrue\nCounter :  257\nTrue\nCounter :  258\nTrue\nCounter :  259\nTrue\nCounter :  260\nTrue\nCounter :  261\nTrue\nCounter :  262\nTrue\nCounter :  263\nTrue\nCounter :  264\nTrue\nCounter :  265\nTrue\nCounter :  266\nTrue\nCounter :  267\nTrue\nCounter :  268\nTrue\nCounter :  269\nTrue\nCounter :  270\nTrue\nCounter :  271\nTrue\nCounter :  272\nTrue\nCounter :  273\nTrue\nCounter :  274\nTrue\nCounter :  275\nTrue\nCounter :  276\nTrue\nCounter :  277\nTrue\nCounter :  278\nTrue\nCounter :  279\nTrue\nCounter :  280\nTrue\nCounter :  281\nTrue\nCounter :  282\nTrue\nCounter :  283\nTrue\nCounter :  284\nTrue\nCounter :  285\nTrue\nCounter :  286\nTrue\nCounter :  287\nTrue\nCounter :  288\nTrue\nCounter :  289\nTrue\nCounter :  290\nTrue\nCounter :  291\nTrue\nCounter :  292\nTrue\nCounter :  293\nTrue\nCounter :  294\nTrue\nCounter :  295\nTrue\nCounter :  296\nTrue\nCounter :  297\nTrue\nCounter :  298\nTrue\nCounter :  299\nTrue\nCounter :  300\nTrue\nCounter :  301\nTrue\nCounter :  302\nTrue\nCounter :  303\nTrue\nCounter :  304\nTrue\nCounter :  305\nTrue\nCounter :  306\nTrue\nCounter :  307\nTrue\nCounter :  308\nTrue\nCounter :  309\nTrue\nCounter :  310\nTrue\nCounter :  311\nTrue\nCounter :  312\nTrue\nCounter :  313\nTrue\nCounter :  314\nTrue\nCounter :  315\nTrue\nCounter :  316\nTrue\nCounter :  317\nTrue\nCounter :  318\nTrue\nCounter :  319\nTrue\nCounter :  320\nTrue\nCounter :  321\nTrue\nCounter :  322\nTrue\nCounter :  323\nTrue\nCounter :  324\nTrue\nCounter :  325\nTrue\nCounter :  326\nTrue\nCounter :  327\nTrue\nCounter :  328\nTrue\nCounter :  329\nTrue\nCounter :  330\nTrue\nCounter :  331\nTrue\nCounter :  332\nTrue\nCounter :  333\nTrue\nCounter :  334\nTrue\nCounter :  335\nTrue\nCounter :  336\nTrue\nCounter :  337\nTrue\nCounter :  338\nTrue\nCounter :  339\nTrue\nCounter :  340\nTrue\nCounter :  341\nTrue\nCounter :  342\nTrue\nCounter :  343\nTrue\nCounter :  344\nTrue\nCounter :  345\nTrue\nCounter :  346\nTrue\nCounter :  347\nTrue\nCounter :  348\nTrue\nCounter :  349\nTrue\nCounter :  350\nTrue\nCounter :  351\nTrue\nCounter :  352\nTrue\nCounter :  353\nTrue\nCounter :  354\nTrue\nCounter :  355\nTrue\nCounter :  356\nTrue\nCounter :  357\nTrue\nCounter :  358\nTrue\nCounter :  359\nTrue\nCounter :  360\nTrue\nCounter :  361\nTrue\nCounter :  362\nTrue\nCounter :  363\nTrue\nCounter :  364\nTrue\nCounter :  365\nTrue\nCounter :  366\nTrue\nCounter :  367\nTrue\nCounter :  368\nTrue\nCounter :  369\nTrue\nCounter :  370\nTrue\nCounter :  371\nTrue\nCounter :  372\nTrue\nCounter :  373\nTrue\nCounter :  374\nTrue\nCounter :  375\nTrue\nCounter :  376\nTrue\nCounter :  377\nTrue\nCounter :  378\nTrue\nCounter :  379\nTrue\nCounter :  380\nTrue\nCounter :  381\nTrue\nCounter :  382\nTrue\nCounter :  383\nTrue\nCounter :  384\nTrue\nCounter :  385\nTrue\nCounter :  386\nTrue\nCounter :  387\nTrue\nCounter :  388\nTrue\nCounter :  389\nTrue\nCounter :  390\nTrue\nCounter :  391\nTrue\nCounter :  392\nTrue\nCounter :  393\nTrue\nCounter :  394\nTrue\nCounter :  395\nTrue\nCounter :  396\nTrue\nCounter :  397\nTrue\nCounter :  398\nTrue\nCounter :  399\nTrue\nCounter :  400\nTrue\nCounter :  401\nTrue\nCounter :  402\nTrue\nCounter :  403\nTrue\nCounter :  404\nTrue\nCounter :  405\nTrue\nCounter :  406\nTrue\nCounter :  407\nTrue\nCounter :  408\nTrue\nCounter :  409\nTrue\nCounter :  410\nTrue\nCounter :  411\nTrue\nCounter :  412\nTrue\nCounter :  413\nTrue\nCounter :  414\nTrue\nCounter :  415\nTrue\nCounter :  416\nTrue\nCounter :  417\nTrue\nCounter :  418\nTrue\nCounter :  419\nTrue\nCounter :  420\nTrue\nCounter :  421\nTrue\nCounter :  422\nTrue\nCounter :  423\nTrue\nCounter :  424\nTrue\nCounter :  425\nTrue\nCounter :  426\nTrue\nCounter :  427\nTrue\nCounter :  428\nTrue\nCounter :  429\nTrue\nCounter :  430\nTrue\nCounter :  431\nTrue\nCounter :  432\nTrue\nCounter :  433\nTrue\nCounter :  434\nTrue\nCounter :  435\nTrue\nCounter :  436\nTrue\nCounter :  437\nTrue\nCounter :  438\nTrue\nCounter :  439\nTrue\nCounter :  440\nTrue\nCounter :  441\nTrue\nCounter :  442\nTrue\nCounter :  443\nTrue\nCounter :  444\nTrue\nCounter :  445\nTrue\nCounter :  446\nTrue\nCounter :  447\nTrue\nCounter :  448\nTrue\nCounter :  449\nTrue\nCounter :  450\nTrue\nCounter :  451\nTrue\nCounter :  452\nTrue\nCounter :  453\nTrue\nCounter :  454\nTrue\nCounter :  455\nTrue\nCounter :  456\nTrue\nCounter :  457\nTrue\nCounter :  458\nTrue\nCounter :  459\nTrue\nCounter :  460\nTrue\nCounter :  461\nTrue\nCounter :  462\nTrue\nCounter :  463\nTrue\nCounter :  464\nTrue\nCounter :  465\nTrue\nCounter :  466\nTrue\nCounter :  467\nTrue\nCounter :  468\nTrue\nCounter :  469\nTrue\nCounter :  470\nTrue\nCounter :  471\nTrue\nCounter :  472\nTrue\nCounter :  473\nTrue\nCounter :  474\nTrue\nCounter :  475\nTrue\nCounter :  476\nTrue\nCounter :  477\nTrue\nCounter :  478\nTrue\nCounter :  479\nTrue\nCounter :  480\nTrue\nCounter :  481\nTrue\nCounter :  482\nTrue\nCounter :  483\nTrue\nCounter :  484\nTrue\nCounter :  485\nTrue\nCounter :  486\nTrue\nCounter :  487\nTrue\nCounter :  488\nTrue\nCounter :  489\nTrue\nCounter :  490\nTrue\nCounter :  491\nTrue\nCounter :  492\nTrue\nCounter :  493\nTrue\nCounter :  494\nTrue\nCounter :  495\nTrue\nCounter :  496\nTrue\nCounter :  497\nTrue\nCounter :  498\nTrue\nCounter :  499\nTrue\nCounter :  500\nTrue\nCounter :  501\nTrue\nCounter :  502\nTrue\nCounter :  503\nTrue\nCounter :  504\nTrue\nCounter :  505\nTrue\nCounter :  506\nTrue\nCounter :  507\nTrue\nCounter :  508\nTrue\nCounter :  509\nTrue\nCounter :  510\nTrue\nCounter :  511\nTrue\nCounter :  512\nTrue\nCounter :  513\nTrue\nCounter :  514\nTrue\nCounter :  515\nTrue\nCounter :  516\nTrue\nCounter :  517\nTrue\nCounter :  518\nTrue\nCounter :  519\nTrue\nCounter :  520\nTrue\nCounter :  521\nTrue\nCounter :  522\nTrue\nCounter :  523\nTrue\nCounter :  524\nTrue\nCounter :  525\nTrue\nCounter :  526\nTrue\nCounter :  527\nTrue\nCounter :  528\nTrue\nCounter :  529\nTrue\nCounter :  530\nTrue\nCounter :  531\nFalse\n"
    }
   ],
   "source": [
    "cap = cv2.VideoCapture(\"VID_20190611_100612.mp4\")\n",
    "fourcc = cv2.VideoWriter_fourcc(*'MP4V')\n",
    "out = cv2.VideoWriter('output.mp4',fourcc, cap.get(cv2.CAP_PROP_FPS) , (540, 380))\n",
    "\n",
    "print (cap.get(cv2.CAP_PROP_FPS))\n",
    "counter = 0\n",
    "while (cap.isOpened()): \n",
    "    font = cv2.FONT_HERSHEY_SIMPLEX\n",
    "    ret, frame = cap.read()\n",
    "    counter += 1\n",
    "    print(\"Counter : \",counter)\n",
    "    print(ret)\n",
    "    if ret:\n",
    "        #Draw rectangle\n",
    "        frame = cv2.rectangle(frame, (5,5), (800,800) , (255, 0, 0) , 2) \n",
    "        \n",
    "        #Putting text in the rectanngle\n",
    "        cv2.putText(frame,'Trying out things',(10,100), font, 1,(255,255,255),2)\n",
    "        \n",
    "        #Resizing the frame\n",
    "        frame = cv2.resize(frame, (540, 380), fx = 0, fy = 0, \n",
    "                            interpolation = cv2.INTER_CUBIC) \n",
    "        out.write(frame)\n",
    "        # Display the resulting frame \n",
    "        cv2.imshow('Frame', frame)  \n",
    "    else:\n",
    "        break\n",
    "\n",
    "    # define q as the exit button \n",
    "    if cv2.waitKey(1) & 0xFF == ord('q'): \n",
    "        break\n",
    "  \n",
    "# release the video capture object \n",
    "cap.release() \n",
    "out.release()\n",
    "# Closes all the windows currently opened. \n",
    "cv2.destroyAllWindows() "
   ]
  },
  {
   "cell_type": "code",
   "execution_count": null,
   "metadata": {},
   "outputs": [],
   "source": []
  },
  {
   "cell_type": "code",
   "execution_count": null,
   "metadata": {},
   "outputs": [],
   "source": []
  }
 ],
 "metadata": {
  "kernelspec": {
   "display_name": "Python 3",
   "language": "python",
   "name": "python3"
  },
  "language_info": {
   "codemirror_mode": {
    "name": "ipython",
    "version": 3
   },
   "file_extension": ".py",
   "mimetype": "text/x-python",
   "name": "python",
   "nbconvert_exporter": "python",
   "pygments_lexer": "ipython3",
   "version": "3.7.6-final"
  }
 },
 "nbformat": 4,
 "nbformat_minor": 4
}