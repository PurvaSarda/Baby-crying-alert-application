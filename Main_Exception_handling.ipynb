{
 "cells": [
  {
   "cell_type": "code",
   "execution_count": 1,
   "metadata": {},
   "outputs": [],
   "source": [
    "from Exception_handelling import video_details,image_details,resize\n",
    "\n"
   ]
  },
  {
   "cell_type": "code",
   "execution_count": 3,
   "metadata": {},
   "outputs": [
    {
     "name": "stdout",
     "output_type": "stream",
     "text": [
      "Enter your input file: sa\n",
      "Enter your output file: ds\n",
      "Whether the file contains an image (True/False): f\n",
      "Invalid input please enter True or False!\n"
     ]
    }
   ],
   "source": [
    "if __name__ == \"__main__\":\n",
    "    \n",
    "\n",
    "    inputFile = input(\"Enter your input file: \") \n",
    "    outputFile = input(\"Enter your output file: \") \n",
    "    try:\n",
    "        image = {\"true\":True,\"false\":False}[input(\"Whether the file contains an image (True/False): \").lower()]\n",
    "        if image == True or image == False:\n",
    "            resize(inputFile,outputFile,image)\n",
    "    except KeyError:\n",
    "        print (\"Invalid input for image value. Please enter True or False!\")\n",
    "\n",
    "    \n",
    "    \n",
    "\n",
    " \n"
   ]
  },
  {
   "cell_type": "code",
   "execution_count": null,
   "metadata": {},
   "outputs": [],
   "source": []
  }
 ],
 "metadata": {
  "kernelspec": {
   "display_name": "Python 3",
   "language": "python",
   "name": "python3"
  },
  "language_info": {
   "codemirror_mode": {
    "name": "ipython",
    "version": 3
   },
   "file_extension": ".py",
   "mimetype": "text/x-python",
   "name": "python",
   "nbconvert_exporter": "python",
   "pygments_lexer": "ipython3",
   "version": "3.7.6"
  }
 },
 "nbformat": 4,
 "nbformat_minor": 4
}
